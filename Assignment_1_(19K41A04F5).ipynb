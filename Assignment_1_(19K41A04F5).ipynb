{
  "nbformat": 4,
  "nbformat_minor": 0,
  "metadata": {
    "colab": {
      "name": "Assignment 1 (19K41A04F5)",
      "provenance": [],
      "collapsed_sections": [],
      "authorship_tag": "ABX9TyO043dwTts1f6p5GKPuEKd+",
      "include_colab_link": true
    },
    "kernelspec": {
      "name": "python3",
      "display_name": "Python 3"
    },
    "language_info": {
      "name": "python"
    }
  },
  "cells": [
    {
      "cell_type": "markdown",
      "metadata": {
        "id": "view-in-github",
        "colab_type": "text"
      },
      "source": [
        "<a href=\"https://colab.research.google.com/github/19k41a04f5/AI/blob/main/Assignment_1_(19K41A04F5).ipynb\" target=\"_parent\"><img src=\"https://colab.research.google.com/assets/colab-badge.svg\" alt=\"Open In Colab\"/></a>"
      ]
    },
    {
      "cell_type": "code",
      "metadata": {
        "colab": {
          "base_uri": "https://localhost:8080/"
        },
        "id": "ARqfHu51yfOm",
        "outputId": "dce41236-9d88-47b7-b221-bf941eed0ca0"
      },
      "source": [
        "#let a be area for growing wheat\n",
        "#let b be area for growing barley\n",
        "#Objective function : 50a+ 120b\n",
        "#Inequality constraints:7000a+ 2000b <= 700000;10a+ 30b <= 1200;a+ b <= 110\n",
        "#Boundaries : a>=0,b>=0\n",
        "from scipy.optimize import linprog\n",
        "obj=[-50,-120]  #objective function matrix\n",
        "A_ieq=[[7000,2000],[10,30],[1,1]]\n",
        "b_ieq=[700000,1200,110]\n",
        "boundery=[(0,float('inf')),(0,float('inf'))]\n",
        "opt=linprog(c=obj,A_ub=A_ieq,b_ub=b_ieq,A_eq=None,b_eq=None,bounds=boundery,method=\"Simplex\")\n",
        "opt.x\n",
        "print('Area for growing wheat : ',round(opt.x[0]))\n",
        "print('Area for growing Barley : ',round(opt.x[1]))"
      ],
      "execution_count": 2,
      "outputs": [
        {
          "output_type": "stream",
          "text": [
            "Area for growing wheat :  98\n",
            "Area for growing Barley :  7\n"
          ],
          "name": "stdout"
        }
      ]
    }
  ]
}